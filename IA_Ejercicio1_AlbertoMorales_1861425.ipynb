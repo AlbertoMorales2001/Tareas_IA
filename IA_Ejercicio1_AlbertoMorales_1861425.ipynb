{
  "nbformat": 4,
  "nbformat_minor": 0,
  "metadata": {
    "colab": {
      "name": "Untitled2.ipynb",
      "provenance": [],
      "collapsed_sections": [],
      "authorship_tag": "ABX9TyMHfn6yNSqnullvi02ZarFx",
      "include_colab_link": true
    },
    "kernelspec": {
      "name": "python3",
      "display_name": "Python 3"
    },
    "language_info": {
      "name": "python"
    }
  },
  "cells": [
    {
      "cell_type": "markdown",
      "metadata": {
        "id": "view-in-github",
        "colab_type": "text"
      },
      "source": [
        "<a href=\"https://colab.research.google.com/github/AlbertoMorales2001/Tareas_IA/blob/main/IA_Ejercicio1_AlbertoMorales_1861425.ipynb\" target=\"_parent\"><img src=\"https://colab.research.google.com/assets/colab-badge.svg\" alt=\"Open In Colab\"/></a>"
      ]
    },
    {
      "cell_type": "code",
      "source": [
        "#A2: Ejercicios Básicos en Python,Nombre: Alberto Alan Morales Cavazos, Matricula:1861425, Hora:N1-N3"
      ],
      "metadata": {
        "id": "UBVHJKV54iiF"
      },
      "execution_count": 109,
      "outputs": []
    },
    {
      "cell_type": "code",
      "execution_count": 10,
      "metadata": {
        "colab": {
          "base_uri": "https://localhost:8080/"
        },
        "id": "ip4M7hIp1ekq",
        "outputId": "312ee79b-4ab8-468d-94d7-78baf2a63966"
      },
      "outputs": [
        {
          "output_type": "stream",
          "name": "stdout",
          "text": [
            "Introduzca su nombre:Ana\n",
            "Ana\n"
          ]
        }
      ],
      "source": [
        "# 1. Escribe un programa que le pida al usuario por su nombre y que lo salude con su nombre, excepto si se llama “Ana”, “Juan”, y “Pedro”. \n",
        "\n",
        "nombre = input(\"Introduzca su nombre:\")\n",
        "\n",
        "if nombre == \"Ana\":\n",
        "  print(nombre) \n",
        "\n",
        "elif nombre == \"Juan\":\n",
        "   print(nombre) \n",
        "\n",
        "elif nombre == \"Pedro\":\n",
        "   print(nombre) \n",
        "\n",
        "else: \n",
        "  print(\"Hola\",  nombre + \"!\")"
      ]
    },
    {
      "cell_type": "code",
      "source": [
        "# 2.Escribe una función que regrese el último elemento de una lista y que revierta el orden de la lista e imprima la lista revertida.\n",
        "lista = [0,1,2,3,4]\n",
        "\n",
        "last = lista.pop()\n",
        "\n",
        "print(last)\n",
        "\n",
        "newList = [num for num in reversed(lista)]\n",
        "print(newList)"
      ],
      "metadata": {
        "colab": {
          "base_uri": "https://localhost:8080/"
        },
        "id": "l_k7srnaEN9f",
        "outputId": "c6b06ff8-dce7-4ee4-f144-692308a281be"
      },
      "execution_count": 23,
      "outputs": [
        {
          "output_type": "stream",
          "name": "stdout",
          "text": [
            "4\n",
            "[3, 2, 1, 0]\n"
          ]
        }
      ]
    },
    {
      "cell_type": "code",
      "source": [
        "# 3.Escribe una función que toma una lista de strings y los imprima línea por línea en un marco rectangular. \n",
        "\n",
        "multi_line_string = \"\"\"*Hola esto*\n",
        "* es una  *\n",
        "* cadena  *\n",
        "*de texto *\"\"\"\n",
        "\n",
        "print(multi_line_string)"
      ],
      "metadata": {
        "colab": {
          "base_uri": "https://localhost:8080/"
        },
        "id": "LFsuFURFEpXP",
        "outputId": "f2527ad9-7c6c-4c1e-db53-7a192ac2e53e"
      },
      "execution_count": 49,
      "outputs": [
        {
          "output_type": "stream",
          "name": "stdout",
          "text": [
            "*Hola esto*\n",
            "* es una  *\n",
            "* cadena  *\n",
            "*de texto *\n"
          ]
        }
      ]
    },
    {
      "cell_type": "code",
      "source": [
        ""
      ],
      "metadata": {
        "id": "wGKOpK1gtKFv"
      },
      "execution_count": 82,
      "outputs": []
    }
  ]
}